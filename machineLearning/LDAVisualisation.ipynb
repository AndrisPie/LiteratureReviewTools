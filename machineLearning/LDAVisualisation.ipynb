{
 "cells": [
  {
   "cell_type": "code",
   "execution_count": 15,
   "metadata": {
    "collapsed": false
   },
   "outputs": [],
   "source": [
    "# ---------------------------------------------------------------------------\n",
    "# HEADERS\n",
    "# ---------------------------------------------------------------------------\n",
    "\n",
    "import sys\n",
    "sys.path.append('toolbox')\n",
    "from helpTool import readCSV as read\n",
    "from nltkExtra import cleanText as clean\n",
    "import gensim \n",
    "import pyLDAvis.gensim"
   ]
  },
  {
   "cell_type": "code",
   "execution_count": 16,
   "metadata": {
    "collapsed": true
   },
   "outputs": [],
   "source": [
    "# ---------------------------------------------------------------------------\n",
    "# INPUTS\n",
    "# ---------------------------------------------------------------------------\n",
    "\n",
    "fname = 'testResults/Pubmed_fibrinolysis.csv';\n",
    "N_ITER = 10;\n",
    "NUM_TOPIC = 10;"
   ]
  },
  {
   "cell_type": "code",
   "execution_count": 17,
   "metadata": {
    "collapsed": true
   },
   "outputs": [],
   "source": [
    "# ---------------------------------------------------------------------------\n",
    "# SIMULATION ENGINE\n",
    "# ---------------------------------------------------------------------------\n",
    "\n",
    "# Read and organising data\n",
    "data = read(fname);\n",
    "title = [term[0] for term in data[1:len(data)]];\n",
    "\n",
    "# Cleaning text\n",
    "textCln = clean(title,'en');\n"
   ]
  },
  {
   "cell_type": "code",
   "execution_count": 18,
   "metadata": {
    "collapsed": true
   },
   "outputs": [],
   "source": [
    "# Bag of words\n",
    "dictionary = gensim.corpora.Dictionary(textCln)\n",
    "\n",
    "# Convert tokenized documents into a document-term matrix (bag of words)\n",
    "corpus = [dictionary.doc2bow(text) for text in textCln]\n",
    "\n",
    "# Generate LDA model\n",
    "lda = gensim.models.LdaModel(corpus, num_topics=NUM_TOPIC, id2word = dictionary, passes=N_ITER)"
   ]
  },
  {
   "cell_type": "code",
   "execution_count": 19,
   "metadata": {
    "collapsed": false
   },
   "outputs": [
    {
     "name": "stdout",
     "output_type": "stream",
     "text": [
      "[(0, '0.076*fibrinolysis + 0.023*blood + 0.016*model + 0.016*coagulation + 0.008*via + 0.008*effects + 0.008*modelling + 0.008*cardiac + 0.008*mechanisms + 0.008*coagulation-fibrinolysis'), (1, '0.018*inhibitor + 0.018*thrombin-activatable + 0.018*disease + 0.018*humans + 0.018*severity + 0.018*influences + 0.018*meningitis + 0.018*mice + 0.018*pneumococcal + 0.018*fibrinolysis'), (2, '0.048*fibrinolysis + 0.024*plasminogen + 0.016*coagulation + 0.016*patients + 0.016*activation + 0.016*study + 0.016*plasmin + 0.016*regulation + 0.016*inhibitor + 0.016*prospective'), (3, '0.087*fibrinolysis + 0.024*activation + 0.020*thrombin + 0.020*effect + 0.020*inhibitor + 0.015*generation + 0.015*impaired + 0.014*thrombin-activatable + 0.010*patients + 0.010*acute'), (4, '0.053*fibrinolysis + 0.018*sepsis + 0.018*patients + 0.018*plasma + 0.018*changes + 0.010*inhibition + 0.010*aortic + 0.010*tissue + 0.010*thromboelastography + 0.010*assessment'), (5, '0.066*fibrinolysis + 0.018*plasminogen + 0.018*plasma + 0.012*increased + 0.012*parameters + 0.012*study + 0.012*peritoneal + 0.012*blood + 0.012*coagulation + 0.012*platelet'), (6, '0.038*fibrinolysis + 0.019*inflammation + 0.010*models + 0.010*syndrome + 0.010*acute + 0.010*activatable + 0.010*women + 0.010*injury + 0.010*pulmonary + 0.010*system'), (7, '0.074*fibrinolysis + 0.015*coagulation + 0.015*patients + 0.015*plasma + 0.015*activity + 0.010*associated + 0.010*enhances + 0.010*human + 0.010*familial + 0.010*carbon'), (8, '0.045*fibrinolysis + 0.019*clot + 0.019*pericardial + 0.010*effects + 0.010*associated + 0.010*sepsis + 0.010*dna + 0.010*impact + 0.010*intrapericardial + 0.010*two'), (9, '0.084*fibrinolysis + 0.023*coagulation + 0.017*acid + 0.017*role + 0.012*factor + 0.012*fibrinogen + 0.012*impaired + 0.012*evaluation + 0.012*hormone + 0.012*growth')]\n"
     ]
    }
   ],
   "source": [
    "# Print topics\n",
    "topics = lda.show_topics(NUM_TOPIC)\n",
    "print(topics)"
   ]
  },
  {
   "cell_type": "code",
   "execution_count": 20,
   "metadata": {
    "collapsed": false
   },
   "outputs": [],
   "source": [
    "vis_data = pyLDAvis.gensim.prepare(lda,corpus,dictionary)"
   ]
  },
  {
   "cell_type": "code",
   "execution_count": 21,
   "metadata": {
    "collapsed": true
   },
   "outputs": [],
   "source": [
    "pyLDAvis.save_html(vis_data,'LDA_VisualizationLitReview.html')"
   ]
  },
  {
   "cell_type": "code",
   "execution_count": null,
   "metadata": {
    "collapsed": false
   },
   "outputs": [],
   "source": []
  },
  {
   "cell_type": "code",
   "execution_count": null,
   "metadata": {
    "collapsed": true
   },
   "outputs": [],
   "source": []
  }
 ],
 "metadata": {
  "anaconda-cloud": {},
  "kernelspec": {
   "display_name": "Python [Root]",
   "language": "python",
   "name": "Python [Root]"
  },
  "language_info": {
   "codemirror_mode": {
    "name": "ipython",
    "version": 3
   },
   "file_extension": ".py",
   "mimetype": "text/x-python",
   "name": "python",
   "nbconvert_exporter": "python",
   "pygments_lexer": "ipython3",
   "version": "3.5.2"
  }
 },
 "nbformat": 4,
 "nbformat_minor": 0
}
